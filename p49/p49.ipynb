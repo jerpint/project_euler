{
 "cells": [
  {
   "cell_type": "code",
   "execution_count": 1,
   "metadata": {
    "code_folding": [
     19
    ]
   },
   "outputs": [],
   "source": [
    "import numpy as np\n",
    "\n",
    "\n",
    "# create clean list of primes\n",
    "filename = open('10000-primes.txt')\n",
    "primes = []\n",
    "for count,line in enumerate(filename):\n",
    "    if count<4:\n",
    "        pass\n",
    "    else:\n",
    "        current_digit = ' '\n",
    "        for v in line:\n",
    "            if v != ' ':\n",
    "\n",
    "                current_digit = current_digit+v\n",
    "\n",
    "            elif current_digit != ' ':\n",
    "                primes.append(int(current_digit))\n",
    "                current_digit = ' '\n",
    "            else:\n",
    "                current_digit = ' '\n",
    "filename = open('primes_list.txt','wt')\n",
    "for prime in primes:\n",
    "    filename.write(str(prime))\n",
    "    filename.write('\\n')\n",
    "\n",
    "filename.close()"
   ]
  },
  {
   "cell_type": "code",
   "execution_count": 2,
   "metadata": {},
   "outputs": [
    {
     "name": "stdout",
     "output_type": "stream",
     "text": [
      "296962999629\n"
     ]
    }
   ],
   "source": [
    "# Put first 10000 primes in a list\n",
    "primes_list = open('primes_list.txt')\n",
    "primes = []\n",
    "\n",
    "for prime in primes_list:\n",
    "    primes.append(int(prime.strip()))\n",
    "\n",
    "# Consider only primes that are 4 digits long\n",
    "primes = np.asarray(primes)\n",
    "primes = primes[(primes > 999) & (primes < 10000)]\n",
    "    \n",
    "prime_targets = []\n",
    "sorted_digits = {}\n",
    "solutions = []\n",
    "\n",
    "for prime in primes:\n",
    "    digits = []\n",
    "    for t in str(prime):\n",
    "        digits.append(int(t))\n",
    "    digits.sort()\n",
    "    \n",
    "    try: \n",
    "        sorted_digits[str(digits)].append(prime)\n",
    "    except KeyError:\n",
    "        sorted_digits[str(digits)] = [prime]\n",
    "\n",
    "\n",
    "# hash the ordered set of digits making up the prime\n",
    "# look for the primes that share the hash\n",
    "diffs = {}\n",
    "nums = []\n",
    "\n",
    "for key in sorted_digits:\n",
    "    \n",
    "    if 1487 in sorted_digits[key]:\n",
    "        pass\n",
    "    else:\n",
    "        if len(sorted_digits[key]) > 2 :\n",
    "\n",
    "            mat = []\n",
    "            mat_ref = []\n",
    "            for jj in range(len(sorted_digits[key])):\n",
    "                mat.append(np.roll(sorted_digits[key],shift=jj))\n",
    "                mat_ref.append(sorted_digits[key])\n",
    "            mat = np.asarray(mat) \n",
    "            mat_ref = np.asarray(mat_ref)\n",
    "            mat_diff = mat_ref - mat\n",
    "            diffs[key] = mat_diff[np.where((mat_ref - mat)>0)]\n",
    "            if np.sum(mat_diff == 3330) != 0 and len(diffs[key]) != len(np.unique(diffs[key])):\n",
    "                    nums = (mat[np.where(mat_diff == 3330)])\n",
    "                    nums2 = (mat_ref[np.where(mat_diff == 3330)])\n",
    "                    solutions = np.unique(np.concatenate((nums,nums2)))\n",
    "            \n",
    "print(int(str(solutions[0])+str(solutions[1])+str(solutions[2])))"
   ]
  }
 ],
 "metadata": {
  "kernelspec": {
   "display_name": "Python 3",
   "language": "python",
   "name": "python3"
  },
  "language_info": {
   "codemirror_mode": {
    "name": "ipython",
    "version": 3
   },
   "file_extension": ".py",
   "mimetype": "text/x-python",
   "name": "python",
   "nbconvert_exporter": "python",
   "pygments_lexer": "ipython3",
   "version": "3.5.2"
  },
  "toc": {
   "nav_menu": {},
   "number_sections": true,
   "sideBar": true,
   "skip_h1_title": false,
   "title_cell": "Table of Contents",
   "title_sidebar": "Contents",
   "toc_cell": false,
   "toc_position": {},
   "toc_section_display": true,
   "toc_window_display": false
  }
 },
 "nbformat": 4,
 "nbformat_minor": 2
}
