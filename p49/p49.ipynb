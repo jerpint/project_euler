{
 "cells": [
  {
   "cell_type": "code",
   "execution_count": 1,
   "metadata": {},
   "outputs": [],
   "source": [
    "# create clean list of primes\n",
    "filename = open('10000-primes.txt')\n",
    "primes = []\n",
    "for count,line in enumerate(filename):\n",
    "    if count<4:\n",
    "        pass\n",
    "    else:\n",
    "        current_digit = ' '\n",
    "        for v in line:\n",
    "            if v != ' ':\n",
    "\n",
    "                current_digit = current_digit+v\n",
    "\n",
    "            elif current_digit != ' ':\n",
    "                primes.append(int(current_digit))\n",
    "                current_digit = ' '\n",
    "            else:\n",
    "                current_digit = ' '\n",
    "filename = open('primes_list.txt','wt')\n",
    "for prime in primes:\n",
    "    filename.write(str(prime))\n",
    "    filename.write('\\n')\n",
    "\n",
    "filename.close()"
   ]
  },
  {
   "cell_type": "code",
   "execution_count": 5,
   "metadata": {},
   "outputs": [
    {
     "name": "stdout",
     "output_type": "stream",
     "text": [
      "[2969 6299 9629]\n",
      "[1487 4817 8147]\n"
     ]
    }
   ],
   "source": [
    "import numpy as np\n",
    "\n",
    "primes_list = open('primes_list.txt')\n",
    "primes = []\n",
    "\n",
    "for prime in primes_list:\n",
    "    primes.append(int(prime.strip()))\n",
    "\n",
    "prime_targets = []\n",
    "sorted_digits = []\n",
    "sorted_digits = {}\n",
    "counts = {}\n",
    "primes4 = []\n",
    "\n",
    "for prime in primes:\n",
    "    if len(str(prime)) == 4:\n",
    "        primes4.append(prime)\n",
    "\n",
    "for prime in primes4:\n",
    "    prime = int(prime)\n",
    "    digits = []\n",
    "    for t in str(prime):\n",
    "        digits.append(int(t))\n",
    "    digits.sort()\n",
    "    \n",
    "    \n",
    "    try: \n",
    "        sorted_digits[str(digits)].append(prime)\n",
    "    except KeyError:\n",
    "        sorted_digits[str(digits)] = [prime]\n",
    "\n",
    "diffs = {}        \n",
    "for key in sorted_digits:\n",
    "    if len(sorted_digits[key]) > 2 :\n",
    "\n",
    "        mat = []\n",
    "        mat_ref = []\n",
    "        for jj in range(len(sorted_digits[key])):\n",
    "            mat.append(np.roll(sorted_digits[key],shift=jj))\n",
    "            mat_ref.append(sorted_digits[key])\n",
    "        mat = np.asarray(mat) \n",
    "        mat_ref = np.asarray(mat_ref)\n",
    "        mat_diff = mat_ref - mat\n",
    "        diffs[key] = mat_diff[np.where((mat_ref - mat)>0)]\n",
    "        if np.sum(mat_diff == 3330) != 0 and len(diffs[key]) != len(np.unique(diffs[key])):\n",
    "            \n",
    "            nums = (mat[np.where(mat_diff == 3330)])\n",
    "            nums2 = (mat_ref[np.where(mat_diff == 3330)])\n",
    "            print(np.unique(np.concatenate((nums,nums2))))"
   ]
  }
 ],
 "metadata": {
  "kernelspec": {
   "display_name": "Python 3",
   "language": "python",
   "name": "python3"
  },
  "language_info": {
   "codemirror_mode": {
    "name": "ipython",
    "version": 2
   },
   "file_extension": ".py",
   "mimetype": "text/x-python",
   "name": "python",
   "nbconvert_exporter": "python",
   "pygments_lexer": "ipython2",
   "version": "2.7.12"
  }
 },
 "nbformat": 4,
 "nbformat_minor": 2
}
